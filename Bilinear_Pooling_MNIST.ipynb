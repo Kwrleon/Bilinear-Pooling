{
 "cells": [
  {
   "cell_type": "code",
   "execution_count": 1,
   "metadata": {},
   "outputs": [],
   "source": [
    "import matplotlib as plt\n",
    "from tensorflow.keras.models import Sequential \n",
    "from tensorflow.keras.layers import Dense, Activation, Flatten, Dropout, Conv2D, BatchNormalization, MaxPooling2D, Lambda\n",
    "from tensorflow.keras.preprocessing.image import ImageDataGenerator\n",
    "from tensorflow.keras.optimizers import Adam, RMSprop, SGD\n",
    "from tensorflow.keras.regularizers import L1L2\n",
    "dense_regularizer = L1L2(l2=0.0001)\n",
    "from tensorflow.keras.metrics import categorical_crossentropy\n",
    "from sklearn.metrics import confusion_matrix\n",
    "from tensorflow.keras.datasets import mnist\n",
    "from tensorflow.keras.utils import to_categorical\n",
    "from Bilinear_Pooling import Bilinear_Pooling"
   ]
  },
  {
   "cell_type": "code",
   "execution_count": 2,
   "metadata": {},
   "outputs": [
    {
     "name": "stdout",
     "output_type": "stream",
     "text": [
      "(60000, 28, 28, 1)\n",
      "(10000, 28, 28, 1)\n"
     ]
    }
   ],
   "source": [
    "(train_images, train_labels), (test_images, test_labels) = mnist.load_data()\n",
    "#reshape data to fit model\n",
    "train_images = train_images.reshape(60000,28,28,1)\n",
    "test_images = test_images.reshape(10000,28,28,1)\n",
    "print(train_images.shape)\n",
    "print(test_images.shape)\n",
    "train_images = train_images.astype('float32') / 255\n",
    "test_images = test_images.astype('float32') / 255\n",
    "\n",
    "train_labels = to_categorical(train_labels)\n",
    "test_labels = to_categorical(test_labels)\n",
    "\n",
    "BATCH_SIZE = 128"
   ]
  },
  {
   "cell_type": "code",
   "execution_count": 3,
   "metadata": {},
   "outputs": [
    {
     "name": "stdout",
     "output_type": "stream",
     "text": [
      "Model: \"sequential\"\n",
      "_________________________________________________________________\n",
      "Layer (type)                 Output Shape              Param #   \n",
      "=================================================================\n",
      "conv2d (Conv2D)              (None, 28, 28, 64)        1664      \n",
      "_________________________________________________________________\n",
      "batch_normalization (BatchNo (None, 28, 28, 64)        256       \n",
      "_________________________________________________________________\n",
      "activation (Activation)      (None, 28, 28, 64)        0         \n",
      "_________________________________________________________________\n",
      "conv2d_1 (Conv2D)            (None, 28, 28, 64)        102464    \n",
      "_________________________________________________________________\n",
      "batch_normalization_1 (Batch (None, 28, 28, 64)        256       \n",
      "_________________________________________________________________\n",
      "activation_1 (Activation)    (None, 28, 28, 64)        0         \n",
      "_________________________________________________________________\n",
      "conv2d_2 (Conv2D)            (None, 28, 28, 64)        102464    \n",
      "_________________________________________________________________\n",
      "batch_normalization_2 (Batch (None, 28, 28, 64)        256       \n",
      "_________________________________________________________________\n",
      "activation_2 (Activation)    (None, 28, 28, 64)        0         \n",
      "_________________________________________________________________\n",
      "max_pooling2d (MaxPooling2D) (None, 14, 14, 64)        0         \n",
      "_________________________________________________________________\n",
      "conv2d_3 (Conv2D)            (None, 14, 14, 128)       73856     \n",
      "_________________________________________________________________\n",
      "batch_normalization_3 (Batch (None, 14, 14, 128)       512       \n",
      "_________________________________________________________________\n",
      "activation_3 (Activation)    (None, 14, 14, 128)       0         \n",
      "_________________________________________________________________\n",
      "conv2d_4 (Conv2D)            (None, 14, 14, 128)       147584    \n",
      "_________________________________________________________________\n",
      "batch_normalization_4 (Batch (None, 14, 14, 128)       512       \n",
      "_________________________________________________________________\n",
      "activation_4 (Activation)    (None, 14, 14, 128)       0         \n",
      "_________________________________________________________________\n",
      "conv2d_5 (Conv2D)            (None, 14, 14, 128)       147584    \n",
      "_________________________________________________________________\n",
      "batch_normalization_5 (Batch (None, 14, 14, 128)       512       \n",
      "_________________________________________________________________\n",
      "activation_5 (Activation)    (None, 14, 14, 128)       0         \n",
      "_________________________________________________________________\n",
      "max_pooling2d_1 (MaxPooling2 (None, 7, 7, 128)         0         \n",
      "_________________________________________________________________\n",
      "conv2d_6 (Conv2D)            (None, 7, 7, 256)         295168    \n",
      "_________________________________________________________________\n",
      "batch_normalization_6 (Batch (None, 7, 7, 256)         1024      \n",
      "_________________________________________________________________\n",
      "activation_6 (Activation)    (None, 7, 7, 256)         0         \n",
      "_________________________________________________________________\n",
      "conv2d_7 (Conv2D)            (None, 7, 7, 256)         590080    \n",
      "_________________________________________________________________\n",
      "batch_normalization_7 (Batch (None, 7, 7, 256)         1024      \n",
      "_________________________________________________________________\n",
      "activation_7 (Activation)    (None, 7, 7, 256)         0         \n",
      "_________________________________________________________________\n",
      "conv2d_8 (Conv2D)            (None, 7, 7, 256)         590080    \n",
      "_________________________________________________________________\n",
      "batch_normalization_8 (Batch (None, 7, 7, 256)         1024      \n",
      "_________________________________________________________________\n",
      "activation_8 (Activation)    (None, 7, 7, 256)         0         \n",
      "_________________________________________________________________\n",
      "max_pooling2d_2 (MaxPooling2 (None, 3, 3, 256)         0         \n",
      "_________________________________________________________________\n",
      "conv2d_9 (Conv2D)            (None, 3, 3, 512)         1180160   \n",
      "_________________________________________________________________\n",
      "batch_normalization_9 (Batch (None, 3, 3, 512)         2048      \n",
      "_________________________________________________________________\n",
      "activation_9 (Activation)    (None, 3, 3, 512)         0         \n",
      "_________________________________________________________________\n",
      "conv2d_10 (Conv2D)           (None, 1, 1, 512)         2359808   \n",
      "_________________________________________________________________\n",
      "batch_normalization_10 (Batc (None, 1, 1, 512)         2048      \n",
      "_________________________________________________________________\n",
      "activation_10 (Activation)   (None, 1, 1, 512)         0         \n",
      "_________________________________________________________________\n",
      "bilinear__pooling (Bilinear_ (None, 512, 512)          0         \n",
      "_________________________________________________________________\n",
      "flatten (Flatten)            (None, 262144)            0         \n",
      "_________________________________________________________________\n",
      "dense (Dense)                (None, 10)                2621450   \n",
      "=================================================================\n",
      "Total params: 8,221,834\n",
      "Trainable params: 8,217,098\n",
      "Non-trainable params: 4,736\n",
      "_________________________________________________________________\n"
     ]
    }
   ],
   "source": [
    "def Model_1(x=None):\n",
    "    # we initialize the model\n",
    "    model = Sequential()\n",
    "\n",
    "    # Conv Block 1\n",
    "    model.add(Conv2D(64, (5, 5), input_shape=(28,28,1),  padding='same', kernel_regularizer=dense_regularizer,kernel_initializer=\"he_normal\"))\n",
    "    model.add(BatchNormalization())\n",
    "    model.add(Activation('elu'))\n",
    "    model.add(Conv2D(64, (5, 5),   padding='same', kernel_regularizer=dense_regularizer,kernel_initializer=\"he_normal\"))\n",
    "    model.add(BatchNormalization())\n",
    "    model.add(Activation('elu'))\n",
    "    model.add(Conv2D(64, (5, 5),  padding='same', kernel_regularizer=dense_regularizer,kernel_initializer=\"he_normal\"))\n",
    "    model.add(BatchNormalization())\n",
    "    model.add(Activation('elu'))\n",
    "    model.add(MaxPooling2D(pool_size=(2, 2), strides=(2, 2)))\n",
    "\n",
    "    # Conv Block 2\n",
    "    model.add(Conv2D(128, (3, 3),  padding='same', kernel_regularizer=dense_regularizer,kernel_initializer=\"he_normal\"))\n",
    "    model.add(BatchNormalization())\n",
    "    model.add(Activation('elu'))\n",
    "    model.add(Conv2D(128, (3, 3),  padding='same', kernel_regularizer=dense_regularizer,kernel_initializer=\"he_normal\"))\n",
    "    model.add(BatchNormalization())\n",
    "    model.add(Activation('elu'))\n",
    "    model.add(Conv2D(128, (3, 3),  padding='same', kernel_regularizer=dense_regularizer,kernel_initializer=\"he_normal\"))\n",
    "    model.add(BatchNormalization())\n",
    "    model.add(Activation('elu'))\n",
    "    model.add(MaxPooling2D(pool_size=(2, 2), strides=(2, 2)))\n",
    "\n",
    "    # Conv Block 3\n",
    "    model.add(Conv2D(256, (3, 3),  padding='same', kernel_regularizer=dense_regularizer,kernel_initializer=\"he_normal\"))\n",
    "    model.add(BatchNormalization())\n",
    "    model.add(Activation('elu'))\n",
    "    model.add(Conv2D(256, (3, 3),  padding='same', kernel_regularizer=dense_regularizer,kernel_initializer=\"he_normal\"))\n",
    "    model.add(BatchNormalization())\n",
    "    model.add(Activation('elu'))\n",
    "    model.add(Conv2D(256, (3, 3),  padding='same', kernel_regularizer=dense_regularizer,kernel_initializer=\"he_normal\"))\n",
    "    model.add(BatchNormalization())\n",
    "    model.add(Activation('elu'))\n",
    "    model.add(MaxPooling2D(pool_size=(2, 2), strides=(2, 2)))\n",
    "\n",
    "    # Conv Block 4\n",
    "    model.add(Conv2D(512, (3, 3),  padding='same', kernel_regularizer=dense_regularizer,kernel_initializer=\"he_normal\"))\n",
    "    model.add(BatchNormalization())\n",
    "    model.add(Activation('elu'))\n",
    "    model.add(Conv2D(512, (3, 3),  padding='valid', kernel_regularizer=dense_regularizer,kernel_initializer=\"he_normal\"))\n",
    "    model.add(BatchNormalization())\n",
    "    model.add(Activation('elu'))\n",
    "    model.add(Bilinear_Pooling())\n",
    "\n",
    "    # FC layers\n",
    "    model.add(Flatten())\n",
    "    model.add(Dense(10, activation='softmax', kernel_regularizer=dense_regularizer,kernel_initializer=\"he_normal\"))\n",
    "\n",
    "    return model\n",
    "\n",
    "model = Model_1()\n",
    "model.summary()"
   ]
  },
  {
   "cell_type": "code",
   "execution_count": 4,
   "metadata": {},
   "outputs": [],
   "source": [
    "model.compile(Adam(lr=0.001),loss=\"categorical_crossentropy\",metrics=[\"accuracy\"])"
   ]
  },
  {
   "cell_type": "code",
   "execution_count": 5,
   "metadata": {},
   "outputs": [],
   "source": [
    "import tensorflow.keras\n",
    "callbacks_list = [\n",
    "tensorflow.keras.callbacks.EarlyStopping(\n",
    "monitor='val_accuracy', min_delta=0.0001, \n",
    "patience=20, verbose=1, mode='auto',\n",
    "baseline=None, restore_best_weights=True),\n",
    "tensorflow.keras.callbacks.ReduceLROnPlateau(\n",
    "monitor='val_accuracy',\n",
    "factor=0.5,\n",
    "patience=10,\n",
    "verbose=1,\n",
    "mode='auto'),\n",
    "tensorflow.keras.callbacks.ModelCheckpoint(\n",
    "filepath='./my_model.h5',\n",
    "monitor='val_accuracy',\n",
    "save_best_only=True,\n",
    ")\n",
    "]"
   ]
  },
  {
   "cell_type": "code",
   "execution_count": 6,
   "metadata": {},
   "outputs": [
    {
     "name": "stdout",
     "output_type": "stream",
     "text": [
      "Train on 60000 samples, validate on 10000 samples\n",
      "Epoch 1/200\n",
      "60000/60000 [==============================] - 68s 1ms/sample - loss: 0.6509 - accuracy: 0.9512 - val_loss: 0.9509 - val_accuracy: 0.8771\n",
      "Epoch 2/200\n",
      "60000/60000 [==============================] - 63s 1ms/sample - loss: 0.5242 - accuracy: 0.9687 - val_loss: 0.5103 - val_accuracy: 0.9587\n",
      "Epoch 3/200\n",
      "60000/60000 [==============================] - 62s 1ms/sample - loss: 0.4841 - accuracy: 0.9704 - val_loss: 0.4292 - val_accuracy: 0.9702\n",
      "Epoch 4/200\n",
      "60000/60000 [==============================] - 63s 1ms/sample - loss: 0.4260 - accuracy: 0.9733 - val_loss: 2.0484 - val_accuracy: 0.7494\n",
      "Epoch 5/200\n",
      "60000/60000 [==============================] - 63s 1ms/sample - loss: 0.4205 - accuracy: 0.9747 - val_loss: 0.5425 - val_accuracy: 0.9533\n",
      "Epoch 6/200\n",
      "60000/60000 [==============================] - 63s 1ms/sample - loss: 0.3989 - accuracy: 0.9755 - val_loss: 0.5328 - val_accuracy: 0.9498\n",
      "Epoch 7/200\n",
      "60000/60000 [==============================] - 63s 1ms/sample - loss: 0.4044 - accuracy: 0.9750 - val_loss: 0.7824 - val_accuracy: 0.9099\n",
      "Epoch 8/200\n",
      "60000/60000 [==============================] - 63s 1ms/sample - loss: 0.4130 - accuracy: 0.9756 - val_loss: 0.5119 - val_accuracy: 0.9452\n",
      "Epoch 9/200\n",
      "60000/60000 [==============================] - 62s 1ms/sample - loss: 0.5214 - accuracy: 0.9630 - val_loss: 2.7470 - val_accuracy: 0.5956\n",
      "Epoch 10/200\n",
      "60000/60000 [==============================] - 62s 1ms/sample - loss: 1.0650 - accuracy: 0.9351 - val_loss: 0.9671 - val_accuracy: 0.9500\n",
      "Epoch 11/200\n",
      "60000/60000 [==============================] - 62s 1ms/sample - loss: 0.7789 - accuracy: 0.9687 - val_loss: 0.8202 - val_accuracy: 0.9529\n",
      "Epoch 12/200\n",
      "60000/60000 [==============================] - 62s 1ms/sample - loss: 0.5789 - accuracy: 0.9763 - val_loss: 0.7126 - val_accuracy: 0.9374\n",
      "Epoch 13/200\n",
      "59904/60000 [============================>.] - ETA: 0s - loss: 0.4761 - accuracy: 0.9774\n",
      "Epoch 00013: ReduceLROnPlateau reducing learning rate to 0.0005000000237487257.\n",
      "60000/60000 [==============================] - 62s 1ms/sample - loss: 0.4760 - accuracy: 0.9774 - val_loss: 0.6974 - val_accuracy: 0.9358\n",
      "Epoch 14/200\n",
      "60000/60000 [==============================] - 62s 1ms/sample - loss: 0.3400 - accuracy: 0.9864 - val_loss: 0.3637 - val_accuracy: 0.9722\n",
      "Epoch 15/200\n",
      "60000/60000 [==============================] - 62s 1ms/sample - loss: 0.2724 - accuracy: 0.9872 - val_loss: 0.3055 - val_accuracy: 0.9749\n",
      "Epoch 16/200\n",
      "60000/60000 [==============================] - 62s 1ms/sample - loss: 0.2458 - accuracy: 0.9857 - val_loss: 0.2498 - val_accuracy: 0.9824\n",
      "Epoch 17/200\n",
      "60000/60000 [==============================] - 62s 1ms/sample - loss: 0.2575 - accuracy: 0.9803 - val_loss: 0.2780 - val_accuracy: 0.9735\n",
      "Epoch 18/200\n",
      "60000/60000 [==============================] - 62s 1ms/sample - loss: 0.2176 - accuracy: 0.9856 - val_loss: 0.2695 - val_accuracy: 0.9679\n",
      "Epoch 19/200\n",
      "60000/60000 [==============================] - 62s 1ms/sample - loss: 0.2001 - accuracy: 0.9843 - val_loss: 0.2791 - val_accuracy: 0.9616\n",
      "Epoch 20/200\n",
      "60000/60000 [==============================] - 62s 1ms/sample - loss: 0.1863 - accuracy: 0.9849 - val_loss: 0.3812 - val_accuracy: 0.9324\n",
      "Epoch 21/200\n",
      "60000/60000 [==============================] - 63s 1ms/sample - loss: 0.1872 - accuracy: 0.9838 - val_loss: 0.2805 - val_accuracy: 0.9638\n",
      "Epoch 22/200\n",
      "60000/60000 [==============================] - 64s 1ms/sample - loss: 0.1744 - accuracy: 0.9851 - val_loss: 0.1854 - val_accuracy: 0.9797\n",
      "Epoch 23/200\n",
      "60000/60000 [==============================] - 64s 1ms/sample - loss: 0.1785 - accuracy: 0.9836 - val_loss: 0.2458 - val_accuracy: 0.9685\n",
      "Epoch 24/200\n",
      "60000/60000 [==============================] - 63s 1ms/sample - loss: 0.1752 - accuracy: 0.9846 - val_loss: 0.3229 - val_accuracy: 0.9500\n",
      "Epoch 25/200\n",
      "60000/60000 [==============================] - 63s 1ms/sample - loss: 0.1691 - accuracy: 0.9856 - val_loss: 0.2066 - val_accuracy: 0.9714\n",
      "Epoch 26/200\n",
      "59904/60000 [============================>.] - ETA: 0s - loss: 0.2124 - accuracy: 0.9792\n",
      "Epoch 00026: ReduceLROnPlateau reducing learning rate to 0.0002500000118743628.\n",
      "60000/60000 [==============================] - 63s 1ms/sample - loss: 0.2125 - accuracy: 0.9792 - val_loss: 0.2912 - val_accuracy: 0.9557\n",
      "Epoch 27/200\n",
      "60000/60000 [==============================] - 64s 1ms/sample - loss: 0.1641 - accuracy: 0.9902 - val_loss: 0.1608 - val_accuracy: 0.9874\n",
      "Epoch 28/200\n",
      "60000/60000 [==============================] - 64s 1ms/sample - loss: 0.1220 - accuracy: 0.9937 - val_loss: 0.1714 - val_accuracy: 0.9804\n",
      "Epoch 29/200\n",
      "60000/60000 [==============================] - 64s 1ms/sample - loss: 0.1034 - accuracy: 0.9931 - val_loss: 0.1282 - val_accuracy: 0.9861\n",
      "Epoch 30/200\n",
      "60000/60000 [==============================] - 64s 1ms/sample - loss: 0.0912 - accuracy: 0.9929 - val_loss: 0.1123 - val_accuracy: 0.9875\n",
      "Epoch 31/200\n",
      "60000/60000 [==============================] - 64s 1ms/sample - loss: 0.0903 - accuracy: 0.9908 - val_loss: 0.2282 - val_accuracy: 0.9455\n",
      "Epoch 32/200\n",
      "60000/60000 [==============================] - 64s 1ms/sample - loss: 0.0818 - accuracy: 0.9924 - val_loss: 0.1517 - val_accuracy: 0.9719\n",
      "Epoch 33/200\n",
      "60000/60000 [==============================] - 64s 1ms/sample - loss: 0.0763 - accuracy: 0.9926 - val_loss: 0.1150 - val_accuracy: 0.9820\n",
      "Epoch 34/200\n",
      "60000/60000 [==============================] - 64s 1ms/sample - loss: 0.0764 - accuracy: 0.9916 - val_loss: 0.0917 - val_accuracy: 0.9881\n",
      "Epoch 35/200\n",
      "60000/60000 [==============================] - 64s 1ms/sample - loss: 0.0886 - accuracy: 0.9901 - val_loss: 0.0919 - val_accuracy: 0.9874\n",
      "Epoch 36/200\n",
      "60000/60000 [==============================] - 64s 1ms/sample - loss: 0.0742 - accuracy: 0.9922 - val_loss: 0.0967 - val_accuracy: 0.9853\n",
      "Epoch 37/200\n",
      "60000/60000 [==============================] - 63s 1ms/sample - loss: 0.0702 - accuracy: 0.9927 - val_loss: 0.1360 - val_accuracy: 0.9737\n",
      "Epoch 38/200\n",
      "60000/60000 [==============================] - 63s 1ms/sample - loss: 0.0724 - accuracy: 0.9919 - val_loss: 0.1735 - val_accuracy: 0.9668\n",
      "Epoch 39/200\n",
      "60000/60000 [==============================] - 63s 1ms/sample - loss: 0.0706 - accuracy: 0.9922 - val_loss: 0.1377 - val_accuracy: 0.9734\n",
      "Epoch 40/200\n",
      "60000/60000 [==============================] - 63s 1ms/sample - loss: 0.0674 - accuracy: 0.9927 - val_loss: 0.1612 - val_accuracy: 0.9677\n",
      "Epoch 41/200\n",
      "60000/60000 [==============================] - 63s 1ms/sample - loss: 0.0679 - accuracy: 0.9923 - val_loss: 0.0914 - val_accuracy: 0.9852\n",
      "Epoch 42/200\n",
      "60000/60000 [==============================] - 63s 1ms/sample - loss: 0.0687 - accuracy: 0.9920 - val_loss: 0.0935 - val_accuracy: 0.9864\n",
      "Epoch 43/200\n",
      "60000/60000 [==============================] - 63s 1ms/sample - loss: 0.0620 - accuracy: 0.9935 - val_loss: 0.1394 - val_accuracy: 0.9731\n",
      "Epoch 44/200\n",
      "60000/60000 [==============================] - 64s 1ms/sample - loss: 0.0638 - accuracy: 0.9927 - val_loss: 0.0712 - val_accuracy: 0.9903\n",
      "Epoch 45/200\n",
      "60000/60000 [==============================] - 63s 1ms/sample - loss: 0.0635 - accuracy: 0.9929 - val_loss: 0.1474 - val_accuracy: 0.9657\n",
      "Epoch 46/200\n",
      "60000/60000 [==============================] - 63s 1ms/sample - loss: 0.0566 - accuracy: 0.9944 - val_loss: 0.1411 - val_accuracy: 0.9704\n",
      "Epoch 47/200\n",
      "60000/60000 [==============================] - 63s 1ms/sample - loss: 0.0591 - accuracy: 0.9936 - val_loss: 0.0986 - val_accuracy: 0.9833\n",
      "Epoch 48/200\n",
      "60000/60000 [==============================] - 62s 1ms/sample - loss: 0.0633 - accuracy: 0.9926 - val_loss: 0.1148 - val_accuracy: 0.9778\n",
      "Epoch 49/200\n",
      "60000/60000 [==============================] - 62s 1ms/sample - loss: 0.0621 - accuracy: 0.9930 - val_loss: 0.1272 - val_accuracy: 0.9769\n",
      "Epoch 50/200\n",
      "60000/60000 [==============================] - 62s 1ms/sample - loss: 0.0577 - accuracy: 0.9941 - val_loss: 0.0760 - val_accuracy: 0.9898\n",
      "Epoch 51/200\n",
      "60000/60000 [==============================] - 63s 1ms/sample - loss: 0.0620 - accuracy: 0.9930 - val_loss: 0.1120 - val_accuracy: 0.9801\n",
      "Epoch 52/200\n",
      "60000/60000 [==============================] - 62s 1ms/sample - loss: 0.0590 - accuracy: 0.9936 - val_loss: 0.1011 - val_accuracy: 0.9853\n"
     ]
    },
    {
     "name": "stdout",
     "output_type": "stream",
     "text": [
      "Epoch 53/200\n",
      "60000/60000 [==============================] - 63s 1ms/sample - loss: 0.0545 - accuracy: 0.9941 - val_loss: 0.1889 - val_accuracy: 0.9610\n",
      "Epoch 54/200\n",
      "59904/60000 [============================>.] - ETA: 0s - loss: 0.0563 - accuracy: 0.9938\n",
      "Epoch 00054: ReduceLROnPlateau reducing learning rate to 0.0001250000059371814.\n",
      "60000/60000 [==============================] - 62s 1ms/sample - loss: 0.0564 - accuracy: 0.9938 - val_loss: 0.1007 - val_accuracy: 0.9817\n",
      "Epoch 55/200\n",
      "60000/60000 [==============================] - 63s 1ms/sample - loss: 0.0379 - accuracy: 0.9979 - val_loss: 0.0606 - val_accuracy: 0.9931\n",
      "Epoch 56/200\n",
      "60000/60000 [==============================] - 62s 1ms/sample - loss: 0.0377 - accuracy: 0.9974 - val_loss: 0.0614 - val_accuracy: 0.9923\n",
      "Epoch 57/200\n",
      "60000/60000 [==============================] - 63s 1ms/sample - loss: 0.0324 - accuracy: 0.9982 - val_loss: 0.0563 - val_accuracy: 0.9924\n",
      "Epoch 58/200\n",
      "60000/60000 [==============================] - 62s 1ms/sample - loss: 0.0273 - accuracy: 0.9990 - val_loss: 0.0521 - val_accuracy: 0.9931\n",
      "Epoch 59/200\n",
      "60000/60000 [==============================] - 62s 1ms/sample - loss: 0.0248 - accuracy: 0.9990 - val_loss: 0.0494 - val_accuracy: 0.9924\n",
      "Epoch 60/200\n",
      "60000/60000 [==============================] - 62s 1ms/sample - loss: 0.0269 - accuracy: 0.9979 - val_loss: 0.0570 - val_accuracy: 0.9904\n",
      "Epoch 61/200\n",
      "60000/60000 [==============================] - 62s 1ms/sample - loss: 0.0256 - accuracy: 0.9980 - val_loss: 0.0681 - val_accuracy: 0.9873\n",
      "Epoch 62/200\n",
      "60000/60000 [==============================] - 62s 1ms/sample - loss: 0.0278 - accuracy: 0.9972 - val_loss: 0.0705 - val_accuracy: 0.9870\n",
      "Epoch 63/200\n",
      "60000/60000 [==============================] - 62s 1ms/sample - loss: 0.0282 - accuracy: 0.9974 - val_loss: 0.0924 - val_accuracy: 0.9805\n",
      "Epoch 64/200\n",
      "60000/60000 [==============================] - 62s 1ms/sample - loss: 0.0289 - accuracy: 0.9967 - val_loss: 0.0623 - val_accuracy: 0.9905\n",
      "Epoch 65/200\n",
      "59904/60000 [============================>.] - ETA: 0s - loss: 0.0249 - accuracy: 0.9975\n",
      "Epoch 00065: ReduceLROnPlateau reducing learning rate to 6.25000029685907e-05.\n",
      "60000/60000 [==============================] - 62s 1ms/sample - loss: 0.0249 - accuracy: 0.9975 - val_loss: 0.0622 - val_accuracy: 0.9904\n",
      "Epoch 66/200\n",
      "60000/60000 [==============================] - 63s 1ms/sample - loss: 0.0197 - accuracy: 0.9992 - val_loss: 0.0406 - val_accuracy: 0.9938\n",
      "Epoch 67/200\n",
      "60000/60000 [==============================] - 63s 1ms/sample - loss: 0.0162 - accuracy: 0.9998 - val_loss: 0.0390 - val_accuracy: 0.9945\n",
      "Epoch 68/200\n",
      "60000/60000 [==============================] - 62s 1ms/sample - loss: 0.0148 - accuracy: 0.9999 - val_loss: 0.0390 - val_accuracy: 0.9942\n",
      "Epoch 69/200\n",
      "60000/60000 [==============================] - 62s 1ms/sample - loss: 0.0132 - accuracy: 0.9999 - val_loss: 0.0375 - val_accuracy: 0.9935\n",
      "Epoch 70/200\n",
      "60000/60000 [==============================] - 62s 1ms/sample - loss: 0.0131 - accuracy: 0.9997 - val_loss: 0.0431 - val_accuracy: 0.9910\n",
      "Epoch 71/200\n",
      "60000/60000 [==============================] - 62s 1ms/sample - loss: 0.0164 - accuracy: 0.9983 - val_loss: 0.0663 - val_accuracy: 0.9859\n",
      "Epoch 72/200\n",
      "60000/60000 [==============================] - 62s 1ms/sample - loss: 0.0175 - accuracy: 0.9983 - val_loss: 0.0424 - val_accuracy: 0.9925\n",
      "Epoch 73/200\n",
      "60000/60000 [==============================] - 62s 1ms/sample - loss: 0.0130 - accuracy: 0.9995 - val_loss: 0.0352 - val_accuracy: 0.9942\n",
      "Epoch 74/200\n",
      "60000/60000 [==============================] - 62s 1ms/sample - loss: 0.0115 - accuracy: 0.9998 - val_loss: 0.0394 - val_accuracy: 0.9935\n",
      "Epoch 75/200\n",
      "60000/60000 [==============================] - 62s 1ms/sample - loss: 0.0109 - accuracy: 0.9998 - val_loss: 0.0378 - val_accuracy: 0.9933\n",
      "Epoch 76/200\n",
      "60000/60000 [==============================] - 62s 1ms/sample - loss: 0.0104 - accuracy: 0.9998 - val_loss: 0.0330 - val_accuracy: 0.9936\n",
      "Epoch 77/200\n",
      "59904/60000 [============================>.] - ETA: 0s - loss: 0.0157 - accuracy: 0.9982\n",
      "Epoch 00077: ReduceLROnPlateau reducing learning rate to 3.125000148429535e-05.\n",
      "60000/60000 [==============================] - 62s 1ms/sample - loss: 0.0158 - accuracy: 0.9982 - val_loss: 0.0747 - val_accuracy: 0.9825\n",
      "Epoch 78/200\n",
      "60000/60000 [==============================] - 62s 1ms/sample - loss: 0.0116 - accuracy: 0.9994 - val_loss: 0.0323 - val_accuracy: 0.9935\n",
      "Epoch 79/200\n",
      "60000/60000 [==============================] - 62s 1ms/sample - loss: 0.0097 - accuracy: 0.9999 - val_loss: 0.0318 - val_accuracy: 0.9944\n",
      "Epoch 80/200\n",
      "60000/60000 [==============================] - 62s 1ms/sample - loss: 0.0089 - accuracy: 1.0000 - val_loss: 0.0306 - val_accuracy: 0.9943\n",
      "Epoch 81/200\n",
      "60000/60000 [==============================] - 62s 1ms/sample - loss: 0.0086 - accuracy: 1.0000 - val_loss: 0.0289 - val_accuracy: 0.9944\n",
      "Epoch 82/200\n",
      "60000/60000 [==============================] - 62s 1ms/sample - loss: 0.0081 - accuracy: 1.0000 - val_loss: 0.0351 - val_accuracy: 0.9929\n",
      "Epoch 83/200\n",
      "60000/60000 [==============================] - 63s 1ms/sample - loss: 0.0077 - accuracy: 1.0000 - val_loss: 0.0269 - val_accuracy: 0.9950\n",
      "Epoch 84/200\n",
      "60000/60000 [==============================] - 62s 1ms/sample - loss: 0.0084 - accuracy: 0.9996 - val_loss: 0.0428 - val_accuracy: 0.9909\n",
      "Epoch 85/200\n",
      "60000/60000 [==============================] - 62s 1ms/sample - loss: 0.0095 - accuracy: 0.9993 - val_loss: 0.0320 - val_accuracy: 0.9937\n",
      "Epoch 86/200\n",
      "60000/60000 [==============================] - 62s 1ms/sample - loss: 0.0075 - accuracy: 0.9999 - val_loss: 0.0306 - val_accuracy: 0.9947\n",
      "Epoch 87/200\n",
      "60000/60000 [==============================] - 64s 1ms/sample - loss: 0.0072 - accuracy: 0.9999 - val_loss: 0.0313 - val_accuracy: 0.9935\n",
      "Epoch 88/200\n",
      "60000/60000 [==============================] - 63s 1ms/sample - loss: 0.0066 - accuracy: 1.0000 - val_loss: 0.0311 - val_accuracy: 0.9937\n",
      "Epoch 89/200\n",
      "60000/60000 [==============================] - 63s 1ms/sample - loss: 0.0064 - accuracy: 1.0000 - val_loss: 0.0329 - val_accuracy: 0.9933\n",
      "Epoch 90/200\n",
      "60000/60000 [==============================] - 63s 1ms/sample - loss: 0.0080 - accuracy: 0.9995 - val_loss: 0.0387 - val_accuracy: 0.9914\n",
      "Epoch 91/200\n",
      "60000/60000 [==============================] - 62s 1ms/sample - loss: 0.0078 - accuracy: 0.9995 - val_loss: 0.0388 - val_accuracy: 0.9926\n",
      "Epoch 92/200\n",
      "60000/60000 [==============================] - 62s 1ms/sample - loss: 0.0081 - accuracy: 0.9994 - val_loss: 0.0417 - val_accuracy: 0.9912\n",
      "Epoch 93/200\n",
      "59904/60000 [============================>.] - ETA: 0s - loss: 0.0071 - accuracy: 0.9998\n",
      "Epoch 00093: ReduceLROnPlateau reducing learning rate to 1.5625000742147677e-05.\n",
      "60000/60000 [==============================] - 62s 1ms/sample - loss: 0.0071 - accuracy: 0.9998 - val_loss: 0.0280 - val_accuracy: 0.9947\n",
      "Epoch 94/200\n",
      "60000/60000 [==============================] - 62s 1ms/sample - loss: 0.0062 - accuracy: 1.0000 - val_loss: 0.0280 - val_accuracy: 0.9950\n",
      "Epoch 95/200\n",
      "60000/60000 [==============================] - 63s 1ms/sample - loss: 0.0059 - accuracy: 1.0000 - val_loss: 0.0278 - val_accuracy: 0.9948\n",
      "Epoch 96/200\n",
      "60000/60000 [==============================] - 63s 1ms/sample - loss: 0.0057 - accuracy: 1.0000 - val_loss: 0.0271 - val_accuracy: 0.9947\n",
      "Epoch 97/200\n",
      "60000/60000 [==============================] - 63s 1ms/sample - loss: 0.0055 - accuracy: 1.0000 - val_loss: 0.0280 - val_accuracy: 0.9943\n",
      "Epoch 98/200\n",
      "60000/60000 [==============================] - 63s 1ms/sample - loss: 0.0054 - accuracy: 1.0000 - val_loss: 0.0270 - val_accuracy: 0.9946\n",
      "Epoch 99/200\n",
      "60000/60000 [==============================] - 63s 1ms/sample - loss: 0.0052 - accuracy: 1.0000 - val_loss: 0.0276 - val_accuracy: 0.9946\n",
      "Epoch 100/200\n",
      "60000/60000 [==============================] - 62s 1ms/sample - loss: 0.0057 - accuracy: 0.9998 - val_loss: 0.0343 - val_accuracy: 0.9930\n",
      "Epoch 101/200\n",
      "60000/60000 [==============================] - 63s 1ms/sample - loss: 0.0053 - accuracy: 0.9999 - val_loss: 0.0285 - val_accuracy: 0.9941\n",
      "Epoch 102/200\n",
      "60000/60000 [==============================] - 62s 1ms/sample - loss: 0.0050 - accuracy: 1.0000 - val_loss: 0.0299 - val_accuracy: 0.9944\n"
     ]
    },
    {
     "name": "stdout",
     "output_type": "stream",
     "text": [
      "Epoch 103/200\n",
      "59904/60000 [============================>.] - ETA: 0s - loss: 0.0047 - accuracy: 1.0000Restoring model weights from the end of the best epoch.\n",
      "\n",
      "Epoch 00103: ReduceLROnPlateau reducing learning rate to 7.812500371073838e-06.\n",
      "60000/60000 [==============================] - 62s 1ms/sample - loss: 0.0047 - accuracy: 1.0000 - val_loss: 0.0290 - val_accuracy: 0.9943\n",
      "Epoch 00103: early stopping\n"
     ]
    }
   ],
   "source": [
    "history = model.fit(train_images, train_labels, epochs=200, batch_size=BATCH_SIZE, verbose=1,\n",
    "                    validation_data=(test_images, test_labels),callbacks=callbacks_list)"
   ]
  },
  {
   "cell_type": "code",
   "execution_count": 7,
   "metadata": {},
   "outputs": [
    {
     "name": "stdout",
     "output_type": "stream",
     "text": [
      "test_acc: 0.995\n",
      "test_loss: 0.02687660189419985\n"
     ]
    }
   ],
   "source": [
    "test_loss, test_acc = model.evaluate(test_images, test_labels, verbose=0)\n",
    "print('test_acc:', test_acc)\n",
    "print('test_loss:', test_loss)"
   ]
  },
  {
   "cell_type": "code",
   "execution_count": 8,
   "metadata": {},
   "outputs": [],
   "source": [
    "from matplotlib import pyplot as plt"
   ]
  },
  {
   "cell_type": "code",
   "execution_count": 9,
   "metadata": {},
   "outputs": [
    {
     "data": {
      "image/png": "[encoded data removed]",
      "text/plain": [
       "<Figure size 432x288 with 1 Axes>"
      ]
     },
     "metadata": {
      "needs_background": "light"
     },
     "output_type": "display_data"
    }
   ],
   "source": [
    "plt.plot(history.history['accuracy'])\n",
    "#plt.plot(history.history['val_accuracy'])\n",
    "plt.title('model accuracy')\n",
    "plt.xlabel('accuracy')\n",
    "plt.ylabel('epoch')\n",
    "plt.legend(['train','test'],loc='upper left')\n",
    "plt.show()"
   ]
  },
  {
   "cell_type": "code",
   "execution_count": 10,
   "metadata": {},
   "outputs": [
    {
     "data": {
      "image/png": "[encoded data removed]",
      "text/plain": [
       "<Figure size 432x288 with 1 Axes>"
      ]
     },
     "metadata": {
      "needs_background": "light"
     },
     "output_type": "display_data"
    }
   ],
   "source": [
    "#plt.plot(history.history['accuracy'])\n",
    "plt.plot(history.history['val_accuracy'])\n",
    "plt.title('model accuracy')\n",
    "plt.xlabel('accuracy')\n",
    "plt.ylabel('epoch')\n",
    "plt.legend(['train','test'],loc='upper left')\n",
    "plt.show()"
   ]
  },
  {
   "cell_type": "code",
   "execution_count": 11,
   "metadata": {},
   "outputs": [
    {
     "data": {
      "image/png": "[encoded data removed]",
      "text/plain": [
       "<Figure size 432x288 with 1 Axes>"
      ]
     },
     "metadata": {
      "needs_background": "light"
     },
     "output_type": "display_data"
    }
   ],
   "source": [
    "plt.plot(history.history['loss'])\n",
    "#plt.plot(history.history['val_loss'])\n",
    "plt.title('model loss')\n",
    "plt.xlabel('loss')\n",
    "plt.ylabel('epoch')\n",
    "plt.legend(['train','test'],loc='upper left')\n",
    "plt.show()"
   ]
  },
  {
   "cell_type": "code",
   "execution_count": 12,
   "metadata": {},
   "outputs": [
    {
     "data": {
      "image/png": "[encoded data removed]",
      "text/plain": [
       "<Figure size 432x288 with 1 Axes>"
      ]
     },
     "metadata": {
      "needs_background": "light"
     },
     "output_type": "display_data"
    }
   ],
   "source": [
    "#plt.plot(history.history['loss'])\n",
    "plt.plot(history.history['val_loss'])\n",
    "plt.title('model loss')\n",
    "plt.xlabel('loss')\n",
    "plt.ylabel('epoch')\n",
    "plt.legend(['train','test'],loc='upper left')\n",
    "plt.show()"
   ]
  },
  {
   "cell_type": "code",
   "execution_count": 13,
   "metadata": {},
   "outputs": [
    {
     "data": {
      "image/png": "[encoded data removed]",
      "text/plain": [
       "<Figure size 720x720 with 1 Axes>"
      ]
     },
     "metadata": {
      "needs_background": "light"
     },
     "output_type": "display_data"
    }
   ],
   "source": [
    "import numpy as np\n",
    "import seaborn as sns\n",
    "\n",
    "fig = plt.figure(figsize=(10, 10)) # Set Figure\n",
    "\n",
    "y_pred = model.predict(test_images) # Predict encoded label as 2 => [0, 0, 1, 0, 0, 0, 0, 0, 0, 0]\n",
    "\n",
    "Y_pred = np.argmax(y_pred, 1) # Decode Predicted labels\n",
    "Y_test = np.argmax(test_labels, 1) # Decode labels\n",
    "\n",
    "mat = confusion_matrix(Y_test, Y_pred) # Confusion matrix\n",
    "\n",
    "# Plot Confusion matrix\n",
    "sns.heatmap(mat.T, square=True, annot=True, cbar=False, cmap=plt.cm.Blues)\n",
    "plt.xlabel('Predicted Values')\n",
    "plt.ylabel('True Values');\n",
    "plt.show();"
   ]
  },
  {
   "cell_type": "code",
   "execution_count": null,
   "metadata": {},
   "outputs": [],
   "source": []
  }
 ],
 "metadata": {
  "kernelspec": {
   "display_name": "Python 3.7 (tensorflow2-0)",
   "language": "python",
   "name": "tensorflow2-0"
  },
  "language_info": {
   "codemirror_mode": {
    "name": "ipython",
    "version": 3
   },
   "file_extension": ".py",
   "mimetype": "text/x-python",
   "name": "python",
   "nbconvert_exporter": "python",
   "pygments_lexer": "ipython3",
   "version": "3.7.5"
  }
 },
 "nbformat": 4,
 "nbformat_minor": 2
}
